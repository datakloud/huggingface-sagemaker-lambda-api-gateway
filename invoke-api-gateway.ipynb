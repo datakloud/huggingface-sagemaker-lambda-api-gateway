{
 "cells": [
  {
   "cell_type": "code",
   "execution_count": null,
   "id": "6dd6592b-08d3-4494-a4ed-69fa8b0e08f1",
   "metadata": {},
   "outputs": [],
   "source": [
    "import json\n",
    "import requests"
   ]
  },
  {
   "cell_type": "code",
   "execution_count": null,
   "id": "b1c46c63-aa5a-4ad8-abef-5faff836d75f",
   "metadata": {},
   "outputs": [],
   "source": [
    "# The data we want to get a prediction on\n",
    "data = {\"inputs\": \"This is bad experience and customer service was rude\"}"
   ]
  },
  {
   "cell_type": "code",
   "execution_count": null,
   "id": "993b8127-2f7e-43e0-b579-2a3197e2fd34",
   "metadata": {},
   "outputs": [],
   "source": [
    "# API Gateway Invoke URL\n",
    "url = <<API Gateway Post Invoke URL>>"
   ]
  },
  {
   "cell_type": "code",
   "execution_count": null,
   "id": "fcfbe51f-64d1-4b27-92cc-7c5dc3219dc5",
   "metadata": {},
   "outputs": [],
   "source": [
    "# Create a new resource\n",
    "input_data = json.dumps(data)\n",
    "response = requests.post(url, data=input_data)"
   ]
  },
  {
   "cell_type": "code",
   "execution_count": null,
   "id": "07ef3091-852f-4279-b62e-6b8270ebd053",
   "metadata": {},
   "outputs": [],
   "source": [
    "print(response.json())\n",
    "print(f'The model prediction for the input data is {response.json()[\"outcome\"]}')"
   ]
  }
 ],
 "metadata": {
  "kernelspec": {
   "display_name": "conda_python3",
   "language": "python",
   "name": "conda_python3"
  },
  "language_info": {
   "codemirror_mode": {
    "name": "ipython",
    "version": 3
   },
   "file_extension": ".py",
   "mimetype": "text/x-python",
   "name": "python",
   "nbconvert_exporter": "python",
   "pygments_lexer": "ipython3",
   "version": "3.8.12"
  }
 },
 "nbformat": 4,
 "nbformat_minor": 5
}
